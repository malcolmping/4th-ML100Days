{
 "cells": [
  {
   "cell_type": "markdown",
   "metadata": {},
   "source": [
    "## [作業目標]\n",
    "了解機器學習適合應用的領域與範疇。"
   ]
  },
  {
   "cell_type": "markdown",
   "metadata": {},
   "source": [
    "## [作業重點]\n",
    "透過瞭解機器學習的運作方式，找出非常適用機器學習應用的領域及其原因"
   ]
  },
  {
   "cell_type": "markdown",
   "metadata": {},
   "source": [
    "## 作業\n",
    "請找出一個你認為機器學習可以發光發熱的領域並闡述原因? "
   ]
  },
  {
   "cell_type": "code",
   "execution_count": null,
   "metadata": {},
   "outputs": [],
   "source": [
    "   ANS: 機器學習可以應用在目前的新冠肺炎口罩檢測應用上,\n",
    "        1. 口罩偵測, 公共場合需要配戴口罩,越來越多機構與研究單位 open source 口罩偵測的model\n",
    "           https://github.com/AIZOOTech/FaceMaskDetection\n",
    "        2. 與IR 體溫量測儀器結合,ex. 校園,公家機關,醫院無須耗費大量人力一個一個量測\n",
    "        3. 臉部辨識,越來越多的驗算法可以克服戴口罩人物的辨識, 可以應用在隔離人員位置確認等應用"
   ]
  }
 ],
 "metadata": {
  "kernelspec": {
   "display_name": "Python 3",
   "language": "python",
   "name": "python3"
  },
  "language_info": {
   "codemirror_mode": {
    "name": "ipython",
    "version": 3
   },
   "file_extension": ".py",
   "mimetype": "text/x-python",
   "name": "python",
   "nbconvert_exporter": "python",
   "pygments_lexer": "ipython3",
   "version": "3.7.4"
  }
 },
 "nbformat": 4,
 "nbformat_minor": 2
}
